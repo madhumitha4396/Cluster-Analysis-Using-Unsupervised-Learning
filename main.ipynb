{
 "cells": [
  {
   "cell_type": "code",
   "execution_count": 79,
   "metadata": {},
   "outputs": [
    {
     "name": "stdout",
     "output_type": "stream",
     "text": [
      "No: of Clusters: 10\n",
      "Inertia: 1936071.8096302045\n",
      "Homogeneity: 0.5019436548169947\n",
      "Baseline KMeans Accuracy: 0.5203\n",
      "\n"
     ]
    }
   ],
   "source": [
    "import sys\n",
    "import tensorflow as tf\n",
    "import numpy as np\n",
    "import sklearn\n",
    "from sklearn.cluster import KMeans\n",
    "from sklearn.metrics import accuracy_score, confusion_matrix, normalized_mutual_info_score\n",
    "from sklearn.model_selection import train_test_split\n",
    "from sklearn.cluster import MiniBatchKMeans\n",
    "from keras.datasets import mnist\n",
    "from sklearn import metrics\n",
    "\n",
    "(x_train, y_train),(x_test, y_test)=tf.keras.datasets.fashion_mnist.load_data()\n",
    "\n",
    "x=np.concatenate((x_train, x_test))\n",
    "y=np.concatenate((y_train, y_test))\n",
    "x=x_train.reshape((x_train.shape[0],-1))\n",
    "x=np.divide(x.astype(float),255)\n",
    "\n",
    "kmeans = KMeans(n_clusters = 10)\n",
    "\n",
    "kmeans.fit(x)\n",
    "\n",
    "def inferclusterlabels(kmeans, real_labels):\n",
    "    inferred_labels = {}\n",
    "    for i in range(kmeans.n_clusters):\n",
    "        labels = []\n",
    "        index = np.where(kmeans.labels_ == i)\n",
    "        labels.append(real_labels[index])\n",
    "        if len(labels[0]) == 1:\n",
    "            counts = np.bincount(labels[0])\n",
    "        else:\n",
    "            counts = np.bincount(np.squeeze(labels))\n",
    "\n",
    "        if np.argmax(counts) in inferred_labels:\n",
    "            inferred_labels[np.argmax(counts)].append(i)\n",
    "        else:\n",
    "            inferred_labels[np.argmax(counts)] = [i]        \n",
    "    return inferred_labels  \n",
    "\n",
    "def inferdatalabels(X_labels, cluster_labels):\n",
    "    predicted_labels = np.zeros(len(X_labels)).astype(np.uint8)    \n",
    "    for i, cluster in enumerate(X_labels):\n",
    "        for key, value in cluster_labels.items():\n",
    "            if cluster in value:\n",
    "                predicted_labels[i] = key                \n",
    "    return predicted_labels\n",
    "\n",
    "n_clusters=10\n",
    "cluster_labels = inferclusterlabels(kmeans, y_train)\n",
    "X_clusters = kmeans.predict(x)\n",
    "predicted_labels = inferdatalabels(X_clusters, cluster_labels)\n",
    "\n",
    "def calculate_metrics(estimator, data, labels):\n",
    "    print('No: of Clusters: {}'.format(estimator.n_clusters))\n",
    "    print('Inertia: {}'.format(estimator.inertia_))\n",
    "    print('Homogeneity: {}'.format(metrics.homogeneity_score(labels, estimator.labels_)))\n",
    "    \n",
    "clusters = [10]\n",
    "\n",
    "for n_clusters in clusters:\n",
    "    estimator = MiniBatchKMeans(n_clusters = n_clusters)\n",
    "    estimator.fit(x)\n",
    "    calculate_metrics(estimator, x, y_train)\n",
    "    cluster_labels = inferclusterlabels(estimator, y_train)\n",
    "    predicted_Y = inferdatalabels(estimator.labels_, cluster_labels)\n",
    "\n",
    "    print('Baseline KMeans Accuracy: {}\\n'.format(metrics.accuracy_score(y_train, predicted_Y)))\n",
    "    "
   ]
  },
  {
   "cell_type": "code",
   "execution_count": 80,
   "metadata": {},
   "outputs": [],
   "source": [
    "from sklearn.model_selection import train_test_split\n",
    "\n",
    "x_train=x_train.reshape(-1,28,28,1)/255\n",
    "x_test=x_test.reshape(-1,28,28,1)/255\n",
    "\n",
    "x_train, x_validate, y_train, y_validate = train_test_split(x_train, y_train, test_size=0.2, stratify=y_train, random_state=123)"
   ]
  },
  {
   "cell_type": "code",
   "execution_count": 81,
   "metadata": {},
   "outputs": [
    {
     "name": "stdout",
     "output_type": "stream",
     "text": [
      "_________________________________________________________________\n",
      "Layer (type)                 Output Shape              Param #   \n",
      "=================================================================\n",
      "conv2d_26 (Conv2D)           (None, 28, 28, 14)        140       \n",
      "_________________________________________________________________\n",
      "max_pooling2d_11 (MaxPooling (None, 14, 14, 14)        0         \n",
      "_________________________________________________________________\n",
      "dropout_21 (Dropout)         (None, 14, 14, 14)        0         \n",
      "_________________________________________________________________\n",
      "conv2d_27 (Conv2D)           (None, 14, 14, 7)         889       \n",
      "_________________________________________________________________\n",
      "max_pooling2d_12 (MaxPooling (None, 7, 7, 7)           0         \n",
      "_________________________________________________________________\n",
      "dropout_22 (Dropout)         (None, 7, 7, 7)           0         \n",
      "_________________________________________________________________\n",
      "conv2d_28 (Conv2D)           (None, 7, 7, 7)           448       \n",
      "_________________________________________________________________\n",
      "up_sampling2d_11 (UpSampling (None, 14, 14, 7)         0         \n",
      "_________________________________________________________________\n",
      "dropout_23 (Dropout)         (None, 14, 14, 7)         0         \n",
      "_________________________________________________________________\n",
      "conv2d_29 (Conv2D)           (None, 14, 14, 14)        896       \n",
      "_________________________________________________________________\n",
      "up_sampling2d_12 (UpSampling (None, 28, 28, 14)        0         \n",
      "_________________________________________________________________\n",
      "dropout_24 (Dropout)         (None, 28, 28, 14)        0         \n",
      "_________________________________________________________________\n",
      "conv2d_30 (Conv2D)           (None, 28, 28, 1)         127       \n",
      "=================================================================\n",
      "Total params: 2,500\n",
      "Trainable params: 2,500\n",
      "Non-trainable params: 0\n",
      "_________________________________________________________________\n"
     ]
    }
   ],
   "source": [
    "#autoencoder\n",
    "import numpy as np\n",
    "import os\n",
    "import matplotlib.pyplot as plt\n",
    "from sklearn.model_selection import train_test_split\n",
    "from sklearn.metrics import classification_report\n",
    "import keras\n",
    "from keras.models import Sequential\n",
    "from keras.layers import Dense, Dropout, Conv2D, MaxPool2D, UpSampling2D, Activation\n",
    "from keras import backend as K\n",
    "from sklearn.cluster import KMeans\n",
    "from sklearn.metrics import confusion_matrix\n",
    "\n",
    "model = Sequential()\n",
    "model.add(Conv2D(14, kernel_size=3, padding='same', activation='relu', input_shape=(28,28,1)))\n",
    "model.add(MaxPool2D((2,2), padding='same'))\n",
    "model.add(Dropout(0.2))\n",
    "model.add(Conv2D(7, kernel_size=3, padding='same', activation='relu'))\n",
    "model.add(MaxPool2D((2,2), padding='same'))\n",
    "model.add(Dropout(0.2))\n",
    "model.add(Conv2D(7, kernel_size=3, padding='same', activation='relu'))\n",
    "model.add(UpSampling2D((2,2)))\n",
    "model.add(Dropout(0.2))\n",
    "model.add(Conv2D(14, kernel_size=3, padding='same', activation='relu'))\n",
    "model.add(UpSampling2D((2,2)))\n",
    "model.add(Dropout(0.2))\n",
    "model.add(Conv2D(1, kernel_size=3, padding='same', activation='relu'))\n",
    "model.compile(optimizer='adam', loss=\"mse\")\n",
    "model.summary()"
   ]
  },
  {
   "cell_type": "code",
   "execution_count": 82,
   "metadata": {},
   "outputs": [
    {
     "name": "stdout",
     "output_type": "stream",
     "text": [
      "Train on 48000 samples, validate on 12000 samples\n",
      "Epoch 1/100\n",
      "48000/48000 [==============================] - 63s 1ms/step - loss: 0.0539 - val_loss: 0.0379\n",
      "Epoch 2/100\n",
      "48000/48000 [==============================] - 66s 1ms/step - loss: 0.0311 - val_loss: 0.0276\n",
      "Epoch 3/100\n",
      "48000/48000 [==============================] - 66s 1ms/step - loss: 0.0275 - val_loss: 0.0235\n",
      "Epoch 4/100\n",
      "48000/48000 [==============================] - 63s 1ms/step - loss: 0.0257 - val_loss: 0.0203\n",
      "Epoch 5/100\n",
      "48000/48000 [==============================] - 66s 1ms/step - loss: 0.0244 - val_loss: 0.0194\n",
      "Epoch 6/100\n",
      "48000/48000 [==============================] - 64s 1ms/step - loss: 0.0236 - val_loss: 0.0185\n",
      "Epoch 7/100\n",
      "48000/48000 [==============================] - 63s 1ms/step - loss: 0.0229 - val_loss: 0.0177\n",
      "Epoch 8/100\n",
      "48000/48000 [==============================] - 63s 1ms/step - loss: 0.0223 - val_loss: 0.0177\n",
      "Epoch 9/100\n",
      "48000/48000 [==============================] - 65s 1ms/step - loss: 0.0219 - val_loss: 0.0172\n",
      "Epoch 10/100\n",
      "48000/48000 [==============================] - 68s 1ms/step - loss: 0.0215 - val_loss: 0.0168\n",
      "Epoch 11/100\n",
      "48000/48000 [==============================] - 65s 1ms/step - loss: 0.0210 - val_loss: 0.0170\n",
      "Epoch 12/100\n",
      "48000/48000 [==============================] - 66s 1ms/step - loss: 0.0207 - val_loss: 0.0166\n",
      "Epoch 13/100\n",
      "48000/48000 [==============================] - 64s 1ms/step - loss: 0.0204 - val_loss: 0.0166\n",
      "Epoch 14/100\n",
      "48000/48000 [==============================] - 65s 1ms/step - loss: 0.0201 - val_loss: 0.0164\n",
      "Epoch 15/100\n",
      "48000/48000 [==============================] - 63s 1ms/step - loss: 0.0199 - val_loss: 0.0163\n",
      "Epoch 16/100\n",
      "48000/48000 [==============================] - 64s 1ms/step - loss: 0.0196 - val_loss: 0.0159\n",
      "Epoch 17/100\n",
      "48000/48000 [==============================] - 62s 1ms/step - loss: 0.0194 - val_loss: 0.0157\n",
      "Epoch 18/100\n",
      "48000/48000 [==============================] - 62s 1ms/step - loss: 0.0192 - val_loss: 0.0161\n",
      "Epoch 19/100\n",
      "48000/48000 [==============================] - 65s 1ms/step - loss: 0.0190 - val_loss: 0.0158\n",
      "Epoch 20/100\n",
      "48000/48000 [==============================] - 64s 1ms/step - loss: 0.0189 - val_loss: 0.0159\n",
      "Epoch 21/100\n",
      "48000/48000 [==============================] - 63s 1ms/step - loss: 0.0188 - val_loss: 0.0158\n",
      "Epoch 22/100\n",
      "48000/48000 [==============================] - 66s 1ms/step - loss: 0.0187 - val_loss: 0.0159\n",
      "Epoch 23/100\n",
      "48000/48000 [==============================] - 64s 1ms/step - loss: 0.0186 - val_loss: 0.0156\n",
      "Epoch 24/100\n",
      "48000/48000 [==============================] - 67s 1ms/step - loss: 0.0185 - val_loss: 0.0155\n",
      "Epoch 25/100\n",
      "48000/48000 [==============================] - 66s 1ms/step - loss: 0.0185 - val_loss: 0.0157\n",
      "Epoch 26/100\n",
      "48000/48000 [==============================] - 64s 1ms/step - loss: 0.0184 - val_loss: 0.0161\n",
      "Epoch 27/100\n",
      "48000/48000 [==============================] - 63s 1ms/step - loss: 0.0184 - val_loss: 0.0159\n",
      "Epoch 28/100\n",
      "48000/48000 [==============================] - 65s 1ms/step - loss: 0.0183 - val_loss: 0.0160\n",
      "Epoch 29/100\n",
      "48000/48000 [==============================] - 62s 1ms/step - loss: 0.0182 - val_loss: 0.0162\n",
      "Epoch 30/100\n",
      "48000/48000 [==============================] - 65s 1ms/step - loss: 0.0182 - val_loss: 0.0168\n",
      "Epoch 31/100\n",
      "48000/48000 [==============================] - 63s 1ms/step - loss: 0.0181 - val_loss: 0.0163\n",
      "Epoch 32/100\n",
      "48000/48000 [==============================] - 66s 1ms/step - loss: 0.0181 - val_loss: 0.0168\n",
      "Epoch 33/100\n",
      "48000/48000 [==============================] - 63s 1ms/step - loss: 0.0180 - val_loss: 0.0173\n",
      "Epoch 34/100\n",
      "48000/48000 [==============================] - 65s 1ms/step - loss: 0.0180 - val_loss: 0.0170\n",
      "Epoch 35/100\n",
      "48000/48000 [==============================] - 65s 1ms/step - loss: 0.0179 - val_loss: 0.0170\n",
      "Epoch 36/100\n",
      "48000/48000 [==============================] - 64s 1ms/step - loss: 0.0179 - val_loss: 0.0175\n",
      "Epoch 37/100\n",
      "48000/48000 [==============================] - 64s 1ms/step - loss: 0.0179 - val_loss: 0.0173\n",
      "Epoch 38/100\n",
      "48000/48000 [==============================] - 64s 1ms/step - loss: 0.0178 - val_loss: 0.0173\n",
      "Epoch 39/100\n",
      "48000/48000 [==============================] - 63s 1ms/step - loss: 0.0178 - val_loss: 0.0173\n",
      "Epoch 40/100\n",
      "48000/48000 [==============================] - 62s 1ms/step - loss: 0.0178 - val_loss: 0.0173\n",
      "Epoch 41/100\n",
      "48000/48000 [==============================] - 62s 1ms/step - loss: 0.0178 - val_loss: 0.0174\n",
      "Epoch 42/100\n",
      "48000/48000 [==============================] - 62s 1ms/step - loss: 0.0178 - val_loss: 0.0178\n",
      "Epoch 43/100\n",
      "48000/48000 [==============================] - 62s 1ms/step - loss: 0.0177 - val_loss: 0.0178\n",
      "Epoch 44/100\n",
      "48000/48000 [==============================] - 65s 1ms/step - loss: 0.0177 - val_loss: 0.0178\n",
      "Epoch 45/100\n",
      "48000/48000 [==============================] - 67s 1ms/step - loss: 0.0177 - val_loss: 0.0177\n",
      "Epoch 46/100\n",
      "48000/48000 [==============================] - 64s 1ms/step - loss: 0.0177 - val_loss: 0.0180\n",
      "Epoch 47/100\n",
      "48000/48000 [==============================] - 66s 1ms/step - loss: 0.0177 - val_loss: 0.0185\n",
      "Epoch 48/100\n",
      "48000/48000 [==============================] - 66s 1ms/step - loss: 0.0177 - val_loss: 0.0181\n",
      "Epoch 49/100\n",
      "48000/48000 [==============================] - 67s 1ms/step - loss: 0.0177 - val_loss: 0.0182\n",
      "Epoch 50/100\n",
      "48000/48000 [==============================] - 64s 1ms/step - loss: 0.0176 - val_loss: 0.0182\n",
      "Epoch 51/100\n",
      "48000/48000 [==============================] - 67s 1ms/step - loss: 0.0176 - val_loss: 0.0181\n",
      "Epoch 52/100\n",
      "48000/48000 [==============================] - 64s 1ms/step - loss: 0.0176 - val_loss: 0.0188\n",
      "Epoch 53/100\n",
      "48000/48000 [==============================] - 64s 1ms/step - loss: 0.0176 - val_loss: 0.0187\n",
      "Epoch 54/100\n",
      "48000/48000 [==============================] - 64s 1ms/step - loss: 0.0176 - val_loss: 0.0191\n",
      "Epoch 55/100\n",
      "48000/48000 [==============================] - 65s 1ms/step - loss: 0.0176 - val_loss: 0.0191\n",
      "Epoch 56/100\n",
      "48000/48000 [==============================] - 63s 1ms/step - loss: 0.0176 - val_loss: 0.0191\n",
      "Epoch 57/100\n",
      "48000/48000 [==============================] - 64s 1ms/step - loss: 0.0176 - val_loss: 0.0186\n",
      "Epoch 58/100\n",
      "48000/48000 [==============================] - 62s 1ms/step - loss: 0.0176 - val_loss: 0.0193\n",
      "Epoch 59/100\n",
      "48000/48000 [==============================] - 63s 1ms/step - loss: 0.0176 - val_loss: 0.0195\n",
      "Epoch 60/100\n",
      "48000/48000 [==============================] - 62s 1ms/step - loss: 0.0176 - val_loss: 0.0194\n",
      "Epoch 61/100\n",
      "48000/48000 [==============================] - 63s 1ms/step - loss: 0.0175 - val_loss: 0.0199\n",
      "Epoch 62/100\n",
      "48000/48000 [==============================] - 65s 1ms/step - loss: 0.0175 - val_loss: 0.0205\n",
      "Epoch 63/100\n",
      "48000/48000 [==============================] - 64s 1ms/step - loss: 0.0175 - val_loss: 0.0200\n",
      "Epoch 64/100\n",
      "48000/48000 [==============================] - 62s 1ms/step - loss: 0.0175 - val_loss: 0.0202\n",
      "Epoch 65/100\n",
      "48000/48000 [==============================] - 65s 1ms/step - loss: 0.0175 - val_loss: 0.0204\n",
      "Epoch 66/100\n",
      "48000/48000 [==============================] - 62s 1ms/step - loss: 0.0175 - val_loss: 0.0206\n",
      "Epoch 67/100\n",
      "48000/48000 [==============================] - 62s 1ms/step - loss: 0.0174 - val_loss: 0.0203\n",
      "Epoch 68/100\n",
      "48000/48000 [==============================] - 62s 1ms/step - loss: 0.0175 - val_loss: 0.0208\n",
      "Epoch 69/100\n",
      "48000/48000 [==============================] - 62s 1ms/step - loss: 0.0174 - val_loss: 0.0211\n",
      "Epoch 70/100\n",
      "48000/48000 [==============================] - 63s 1ms/step - loss: 0.0174 - val_loss: 0.0216\n",
      "Epoch 71/100\n",
      "48000/48000 [==============================] - 62s 1ms/step - loss: 0.0174 - val_loss: 0.0211\n",
      "Epoch 72/100\n",
      "48000/48000 [==============================] - 65s 1ms/step - loss: 0.0174 - val_loss: 0.0210\n",
      "Epoch 73/100\n",
      "48000/48000 [==============================] - 64s 1ms/step - loss: 0.0174 - val_loss: 0.0211\n",
      "Epoch 74/100\n",
      "48000/48000 [==============================] - 63s 1ms/step - loss: 0.0174 - val_loss: 0.0213\n",
      "Epoch 75/100\n",
      "48000/48000 [==============================] - 65s 1ms/step - loss: 0.0174 - val_loss: 0.0215\n",
      "Epoch 76/100\n",
      "48000/48000 [==============================] - 65s 1ms/step - loss: 0.0174 - val_loss: 0.0212\n",
      "Epoch 77/100\n"
     ]
    },
    {
     "name": "stdout",
     "output_type": "stream",
     "text": [
      "48000/48000 [==============================] - 65s 1ms/step - loss: 0.0174 - val_loss: 0.0213\n",
      "Epoch 78/100\n",
      "48000/48000 [==============================] - 63s 1ms/step - loss: 0.0174 - val_loss: 0.0214\n",
      "Epoch 79/100\n",
      "48000/48000 [==============================] - 64s 1ms/step - loss: 0.0174 - val_loss: 0.0214\n",
      "Epoch 80/100\n",
      "48000/48000 [==============================] - 64s 1ms/step - loss: 0.0174 - val_loss: 0.0221\n",
      "Epoch 81/100\n",
      "48000/48000 [==============================] - 64s 1ms/step - loss: 0.0174 - val_loss: 0.0217\n",
      "Epoch 82/100\n",
      "48000/48000 [==============================] - 65s 1ms/step - loss: 0.0174 - val_loss: 0.0213\n",
      "Epoch 83/100\n",
      "48000/48000 [==============================] - 64s 1ms/step - loss: 0.0174 - val_loss: 0.0220\n",
      "Epoch 84/100\n",
      "48000/48000 [==============================] - 66s 1ms/step - loss: 0.0173 - val_loss: 0.0219\n",
      "Epoch 85/100\n",
      "48000/48000 [==============================] - 64s 1ms/step - loss: 0.0174 - val_loss: 0.0219\n",
      "Epoch 86/100\n",
      "48000/48000 [==============================] - 65s 1ms/step - loss: 0.0174 - val_loss: 0.0210\n",
      "Epoch 87/100\n",
      "48000/48000 [==============================] - 64s 1ms/step - loss: 0.0173 - val_loss: 0.0214\n",
      "Epoch 88/100\n",
      "48000/48000 [==============================] - 66s 1ms/step - loss: 0.0174 - val_loss: 0.0221\n",
      "Epoch 89/100\n",
      "48000/48000 [==============================] - 65s 1ms/step - loss: 0.0173 - val_loss: 0.0212\n",
      "Epoch 90/100\n",
      "48000/48000 [==============================] - 65s 1ms/step - loss: 0.0173 - val_loss: 0.0222\n",
      "Epoch 91/100\n",
      "48000/48000 [==============================] - 65s 1ms/step - loss: 0.0173 - val_loss: 0.0220\n",
      "Epoch 92/100\n",
      "48000/48000 [==============================] - 65s 1ms/step - loss: 0.0173 - val_loss: 0.0219\n",
      "Epoch 93/100\n",
      "48000/48000 [==============================] - 65s 1ms/step - loss: 0.0173 - val_loss: 0.0218\n",
      "Epoch 94/100\n",
      "48000/48000 [==============================] - 66s 1ms/step - loss: 0.0173 - val_loss: 0.0216\n",
      "Epoch 95/100\n",
      "48000/48000 [==============================] - 66s 1ms/step - loss: 0.0173 - val_loss: 0.0224\n",
      "Epoch 96/100\n",
      "48000/48000 [==============================] - 66s 1ms/step - loss: 0.0173 - val_loss: 0.0220\n",
      "Epoch 97/100\n",
      "48000/48000 [==============================] - 65s 1ms/step - loss: 0.0173 - val_loss: 0.0221\n",
      "Epoch 98/100\n",
      "48000/48000 [==============================] - 66s 1ms/step - loss: 0.0173 - val_loss: 0.0214\n",
      "Epoch 99/100\n",
      "48000/48000 [==============================] - 66s 1ms/step - loss: 0.0173 - val_loss: 0.0215\n",
      "Epoch 100/100\n",
      "48000/48000 [==============================] - 66s 1ms/step - loss: 0.0173 - val_loss: 0.0214\n"
     ]
    }
   ],
   "source": [
    "# Train the model\n",
    "logdir = \"logsk3/\"\n",
    "tensorboard_callback = keras.callbacks.TensorBoard(log_dir=logdir)\n",
    "\n",
    "history=model.fit(x_train, x_train, epochs=100, batch_size=256, validation_data=(x_validate, x_validate), verbose=1, callbacks = [tensorboard_callback])\n"
   ]
  },
  {
   "cell_type": "code",
   "execution_count": 83,
   "metadata": {},
   "outputs": [
    {
     "data": {
      "text/plain": [
       "(10000, 343)"
      ]
     },
     "execution_count": 83,
     "metadata": {},
     "output_type": "execute_result"
    }
   ],
   "source": [
    "encoder = K.function([model.layers[0].input], [model.layers[4].output])\n",
    "encoded_imgs = encoder([x_test])[0].reshape(-1,7*7*7)\n",
    "encoded_imgs.shape"
   ]
  },
  {
   "cell_type": "code",
   "execution_count": 84,
   "metadata": {},
   "outputs": [],
   "source": [
    "kmeans_afterencoder = KMeans(n_clusters=10)\n",
    "clustered_training_set = kmeans_afterencoder.fit_predict(encoded_imgs)"
   ]
  },
  {
   "cell_type": "code",
   "execution_count": 85,
   "metadata": {},
   "outputs": [
    {
     "name": "stdout",
     "output_type": "stream",
     "text": [
      "[[173   4  35 260   3   3   1 446   0  75]\n",
      " [100   0  11 126   0 710   0   3   0  50]\n",
      " [196   5 502 267   3   0   0  19   0   8]\n",
      " [146   3  13 239   1   8   0  27   0 563]\n",
      " [ 84   8 621 184   5   5   0   7   0  86]\n",
      " [773   0   0   8   2   0 153   0  64   0]\n",
      " [249   6 276 301  12   2   1  93   0  60]\n",
      " [228   0   0   0   3   0 743   0  26   0]\n",
      " [152 332  50  79 324   1  52   0   3   7]\n",
      " [ 64   2   7  12   2   0 145   0 766   2]]\n"
     ]
    },
    {
     "data": {
      "text/plain": [
       "<matplotlib.axes._subplots.AxesSubplot at 0x1cf949cbb88>"
      ]
     },
     "execution_count": 85,
     "metadata": {},
     "output_type": "execute_result"
    },
    {
     "data": {
      "image/png": "[encoded data removed]",
      "text/plain": [
       "<Figure size 432x288 with 2 Axes>"
      ]
     },
     "metadata": {
      "needs_background": "light"
     },
     "output_type": "display_data"
    }
   ],
   "source": [
    "import seaborn as sns\n",
    "\n",
    "cmKMeans = confusion_matrix(y_test, clustered_training_set)\n",
    "print(cmKMeans)\n",
    "\n",
    "sns.heatmap(cmKMeans,annot=True,fmt=\"d\")"
   ]
  },
  {
   "cell_type": "code",
   "execution_count": 86,
   "metadata": {},
   "outputs": [],
   "source": [
    "cluster_labels = inferclusterlabels(kmeans_afterencoder, y_test)\n",
    "predicted_labels1 = inferdatalabels(clustered_training_set, cluster_labels)\n"
   ]
  },
  {
   "cell_type": "code",
   "execution_count": 87,
   "metadata": {},
   "outputs": [
    {
     "name": "stdout",
     "output_type": "stream",
     "text": [
      "No: of Clusters: 10\n",
      "Inertia: 36081.65599057496\n",
      "Homogeneity: 0.4256171152802742\n",
      "Accuracy: 0.5254\n",
      "\n"
     ]
    }
   ],
   "source": [
    "estimator1 = KMeans(n_clusters=10)\n",
    "estimator1.fit(encoded_imgs)\n",
    "\n",
    "calculate_metrics(estimator1, encoded_imgs, y_test)\n",
    "\n",
    "cluster_labels_AE = inferclusterlabels(estimator1, y_test)\n",
    "predicted_Y_AE = inferdatalabels(estimator1.labels_, cluster_labels_AE)\n",
    "\n",
    "print('Accuracy: {}\\n'.format(metrics.accuracy_score(y_test, predicted_Y_AE)))"
   ]
  },
  {
   "cell_type": "code",
   "execution_count": 88,
   "metadata": {},
   "outputs": [],
   "source": [
    "from sklearn.mixture import GaussianMixture\n",
    "gmm = GaussianMixture(n_components=10)\n",
    "gmm.fit(encoded_imgs)\n",
    "\n",
    "labelsGMM=gmm.fit_predict(encoded_imgs)\n"
   ]
  },
  {
   "cell_type": "code",
   "execution_count": 89,
   "metadata": {},
   "outputs": [],
   "source": [
    "def inferclusterlabels_GMM(gmm, real_labels):\n",
    "    inferred_labels = {}\n",
    "\n",
    "    for i in range(gmm.n_components):\n",
    "        labels = []\n",
    "        index = np.where(labelsGMM == i)\n",
    "        labels.append(real_labels[index])\n",
    "        if len(labels[0]) == 1:\n",
    "            counts = np.bincount(labels[0])\n",
    "        else:\n",
    "            counts = np.bincount(np.squeeze(labels))\n",
    "        if np.argmax(counts) in inferred_labels:\n",
    "            inferred_labels[np.argmax(counts)].append(i)\n",
    "        else:\n",
    "            inferred_labels[np.argmax(counts)] = [i]\n",
    "        \n",
    "    return inferred_labels  \n",
    "\n",
    "def inferdatalabels_GMM(X_labels, cluster_labels):\n",
    "    predicted_labels = np.zeros(len(X_labels)).astype(np.uint8)\n",
    "    \n",
    "    for i, cluster in enumerate(X_labels):\n",
    "        for key, value in cluster_labels.items():\n",
    "            if cluster in value:\n",
    "                predicted_labels[i] = key\n",
    "                \n",
    "    return predicted_labels\n"
   ]
  },
  {
   "cell_type": "code",
   "execution_count": 90,
   "metadata": {},
   "outputs": [
    {
     "name": "stdout",
     "output_type": "stream",
     "text": [
      "GMM Accuracy: 0.5468\n",
      "\n"
     ]
    }
   ],
   "source": [
    "cluster_labels_GMM = inferclusterlabels_GMM(gmm, y_test)\n",
    "predicted_Y_GMM = inferdatalabels_GMM(labelsGMM, cluster_labels_GMM)\n",
    "\n",
    "print('GMM Accuracy: {}\\n'.format(metrics.accuracy_score(y_test, predicted_Y_GMM)))"
   ]
  },
  {
   "cell_type": "code",
   "execution_count": 91,
   "metadata": {},
   "outputs": [
    {
     "name": "stdout",
     "output_type": "stream",
     "text": [
      "[[132  47   1 647  26   9  50   0  85   3]\n",
      " [ 59   6   0   2 910   1   9   0  13   0]\n",
      " [ 97  28   0  10   1 535 210   2 112   5]\n",
      " [577  13   0  16 346   2  12   0  31   3]\n",
      " [241  18   0   0   6 462 218   3  46   6]\n",
      " [  0 346 578   0   0   0   0  67   9   0]\n",
      " [177  62   3 164  11 138 293   3 145   4]\n",
      " [  0   3 975   0   0   0   0  22   0   0]\n",
      " [ 27  95 116   0   1  11  58 285  65 342]\n",
      " [  2  20 255   1   0   0  11 698  10   3]]\n"
     ]
    },
    {
     "data": {
      "text/plain": [
       "<matplotlib.axes._subplots.AxesSubplot at 0x1cfa831c1c8>"
      ]
     },
     "execution_count": 91,
     "metadata": {},
     "output_type": "execute_result"
    },
    {
     "data": {
      "image/png": "[encoded data removed]",
      "text/plain": [
       "<Figure size 432x288 with 2 Axes>"
      ]
     },
     "metadata": {
      "needs_background": "light"
     },
     "output_type": "display_data"
    }
   ],
   "source": [
    "cmGMM = confusion_matrix(y_test, labelsGMM)\n",
    "print(cmGMM)\n",
    "\n",
    "sns.heatmap(cmGMM,annot=True,fmt=\"d\")"
   ]
  },
  {
   "cell_type": "code",
   "execution_count": null,
   "metadata": {},
   "outputs": [],
   "source": []
  }
 ],
 "metadata": {
  "kernelspec": {
   "display_name": "Python 3",
   "language": "python",
   "name": "python3"
  },
  "language_info": {
   "codemirror_mode": {
    "name": "ipython",
    "version": 3
   },
   "file_extension": ".py",
   "mimetype": "text/x-python",
   "name": "python",
   "nbconvert_exporter": "python",
   "pygments_lexer": "ipython3",
   "version": "3.7.4"
  }
 },
 "nbformat": 4,
 "nbformat_minor": 2
}
